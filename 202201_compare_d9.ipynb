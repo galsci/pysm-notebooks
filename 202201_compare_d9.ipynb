{
 "cells": [
  {
   "cell_type": "code",
   "execution_count": null,
   "id": "822537dd-51ff-472a-82ce-39e41bb80435",
   "metadata": {},
   "outputs": [],
   "source": [
    "import astropy.units as units\n",
    "import numpy as np\n",
    "from astropy.tests.helper import assert_quantity_allclose\n",
    "\n",
    "import pysm3\n",
    "from pysm3 import units as u\n",
    "import pysm3.models.dust as dust\n",
    "import pytest\n",
    "import healpy as hp"
   ]
  },
  {
   "cell_type": "code",
   "execution_count": null,
   "id": "9cc9197d-78c0-4b9b-a4f5-a4890f9254d8",
   "metadata": {},
   "outputs": [],
   "source": [
    "model_tag=\"d9\"\n",
    "freq=353"
   ]
  },
  {
   "cell_type": "code",
   "execution_count": null,
   "id": "962b1e5b-dd08-40f8-a1e9-680a4f6d7dfa",
   "metadata": {},
   "outputs": [],
   "source": [
    "    model = pysm3.Sky(preset_strings=[model_tag], nside=2048)\n",
    "\n",
    "    model_number = {\"d0\": 1, \"d9\": 1, \"d1\": 1, \"d2\": 6, \"d3\": 9, \"d6\": 12}[model_tag]\n",
    "    expected_output = pysm3.read_map(\n",
    "        \"pysm_2_test_data/check{}therm_{}p0_64.fits\".format(model_number, freq),\n",
    "        64,\n",
    "        unit=\"uK_RJ\",\n",
    "        field=(0, 1, 2),\n",
    "    )\n",
    "\n",
    "    # for some models we do not have tests, we compare with output from a simular model\n",
    "    # and we increase tolerance, mostly just to exercise the code.\n",
    "    rtol = {\"d9\": 0.9}.get(model_tag, 1e-5)\n",
    "\n"
   ]
  },
  {
   "cell_type": "code",
   "execution_count": null,
   "id": "0f9977e2-5c7e-4d93-a0c0-19d857e05603",
   "metadata": {},
   "outputs": [],
   "source": [
    "output = model.get_emission(freq * units.GHz)"
   ]
  },
  {
   "cell_type": "code",
   "execution_count": null,
   "id": "c579760a-5b23-4a76-86b1-fe3160eed91d",
   "metadata": {},
   "outputs": [],
   "source": [
    "output_512 = hp.alm2map(hp.map2alm(output.value, use_pixel_weights=True, lmax=3*512-1), nside=512)"
   ]
  },
  {
   "cell_type": "code",
   "execution_count": null,
   "id": "e4f37f07-2378-4de3-86cc-1ee32e0be8ca",
   "metadata": {},
   "outputs": [],
   "source": [
    "%matplotlib inline"
   ]
  },
  {
   "cell_type": "code",
   "execution_count": null,
   "id": "331ce94f-8ba2-4618-9768-eabe7f9c31d7",
   "metadata": {},
   "outputs": [],
   "source": [
    "hp.mollview(output[0], min=0, max=1e4)"
   ]
  },
  {
   "cell_type": "code",
   "execution_count": null,
   "id": "0b4e7fe9-947a-49d8-8d98-e3e5dbe65330",
   "metadata": {},
   "outputs": [],
   "source": [
    "model_d0 = pysm3.Sky(preset_strings=[\"d0\"], nside=512)"
   ]
  },
  {
   "cell_type": "code",
   "execution_count": null,
   "id": "cf317e08-fe19-4ca6-b22e-f5c765f221e4",
   "metadata": {},
   "outputs": [],
   "source": [
    "output_d0 = model_d0.get_emission(freq * units.GHz)\n",
    "output_d0 = hp.ud_grade(output_d0.value, 512) * output_d0.unit"
   ]
  },
  {
   "cell_type": "code",
   "execution_count": null,
   "id": "a7afd0d6-8f35-41ff-87a2-775e9ac3b429",
   "metadata": {},
   "outputs": [],
   "source": [
    "for i_comp, comp in enumerate(\"IQU\"):\n",
    "    hp.mollview(output[i_comp]/output_d0[i_comp], min=.1, max=10, title=f\"d9/d0, 353 GHz, {comp}\")"
   ]
  },
  {
   "cell_type": "code",
   "execution_count": null,
   "id": "b3b30b7f-e326-4a55-bbe7-f3266a52ddae",
   "metadata": {},
   "outputs": [],
   "source": [
    "np.median(output[0]/output_d0[0])"
   ]
  },
  {
   "cell_type": "code",
   "execution_count": null,
   "id": "b0368c8b-b049-4298-ab45-6312cb79bd1f",
   "metadata": {},
   "outputs": [],
   "source": [
    "input_template = pysm3.models.read_map(\"dust_gnilc/gnilc_dust_template_nside{nside}.fits\".format(nside=2048), nside=2048, field=(0,1,2))"
   ]
  },
  {
   "cell_type": "code",
   "execution_count": null,
   "id": "89af7086-2108-48e6-a4fe-f70187b8e591",
   "metadata": {},
   "outputs": [],
   "source": [
    "input_template"
   ]
  },
  {
   "cell_type": "code",
   "execution_count": null,
   "id": "853e2102-280a-426c-b02d-006e2e835f5c",
   "metadata": {},
   "outputs": [],
   "source": [
    "output"
   ]
  },
  {
   "cell_type": "code",
   "execution_count": null,
   "id": "1463d896-a7ca-4c63-914d-b227f28e19b9",
   "metadata": {},
   "outputs": [],
   "source": []
  }
 ],
 "metadata": {
  "kernelspec": {
   "display_name": "pysm",
   "language": "python",
   "name": "pysm"
  },
  "language_info": {
   "codemirror_mode": {
    "name": "ipython",
    "version": 3
   },
   "file_extension": ".py",
   "mimetype": "text/x-python",
   "name": "python",
   "nbconvert_exporter": "python",
   "pygments_lexer": "ipython3",
   "version": "3.8.10"
  }
 },
 "nbformat": 4,
 "nbformat_minor": 5
}
